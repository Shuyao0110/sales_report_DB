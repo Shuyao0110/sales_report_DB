{
 "cells": [
  {
   "cell_type": "code",
   "execution_count": 199,
   "metadata": {},
   "outputs": [
    {
     "name": "stdout",
     "output_type": "stream",
     "text": [
      "connect success!\n"
     ]
    }
   ],
   "source": [
    "import pymssql\n",
    "connect=pymssql.connect('KG-XXGLB-HESY','sa','123456','testing')\n",
    "if connect: \n",
    "    print('connect success!')\n",
    "cursor=connect.cursor()"
   ]
  },
  {
   "cell_type": "code",
   "execution_count": 200,
   "metadata": {},
   "outputs": [],
   "source": [
    "cursor.execute('DROP TABLE IF EXISTS receipt_records')\n",
    "cursor.execute('DROP TABLE IF EXISTS leads_info')\n",
    "cursor.execute('DROP TABLE IF EXISTS trading_records')\n",
    "cursor.execute('DROP TABLE IF EXISTS staff_info')\n",
    "cursor.execute('DROP TABLE IF EXISTS customer_info')"
   ]
  },
  {
   "cell_type": "code",
   "execution_count": 201,
   "metadata": {},
   "outputs": [],
   "source": [
    "cursor.execute('''CREATE TABLE Staff_info(\n",
    "    staff_id INT IDENTITY(1,1) PRIMARY KEY, \n",
    "    name VARCHAR(8) NOT NULL, \n",
    "    email VARCHAR(50), \n",
    "    tel CHAR(20), \n",
    "    supervisor CHAR(8))''')\n",
    "cursor.execute('''CREATE TABLE Customer_info(\n",
    "    customer_id INT IDENTITY(1,1) PRIMARY KEY, \n",
    "    customer_name CHAR(40) NOT NULL)''')\n",
    "cursor.execute('''CREATE TABLE Leads_info(\n",
    "    leads_id INT IDENTITY(1,1) PRIMARY KEY,\n",
    "    title TEXT NOT NULL, \n",
    "    sop DATE, \n",
    "    state CHAR(10), \n",
    "    level CHAR(10), \n",
    "    defination TEXT, \n",
    "    stage CHAR(20), \n",
    "    application TEXT, \n",
    "    anual_demand FLOAT, \n",
    "    anual_sale FLOAT, \n",
    "    challenge CHAR(5), \n",
    "    progress TEXT,\n",
    "    staff_id INT FOREIGN KEY REFERENCES Staff_info(staff_id), \n",
    "    customer_id INT FOREIGN KEY REFERENCES Customer_info(customer_id))''')\n",
    "cursor.execute('''CREATE TABLE Trading_records(\n",
    "    trade_no CHAR(8) PRIMARY KEY, \n",
    "    date DATE, \n",
    "    target_sale FLOAT, \n",
    "    sale_amount FLOAT, \n",
    "    target_benefits FLOAT, \n",
    "    benefits FLOAT,\n",
    "    staff_id INT FOREIGN KEY REFERENCES Staff_info(staff_id),\n",
    "    customer_id INT FOREIGN KEY REFERENCES Customer_info(customer_id))''')\n",
    "cursor.execute('''CREATE TABLE Receipt_records(\n",
    "    receipt_no CHAR(8) NOT NULL PRIMARY KEY,\n",
    "    date DATE, \n",
    "    target_receipt FLOAT,\n",
    "    receipt FLOAT,\n",
    "    trade_no CHAR(8) FOREIGN KEY REFERENCES Trading_records(trade_no))''')\n",
    "\n"
   ]
  },
  {
   "cell_type": "code",
   "execution_count": 206,
   "metadata": {},
   "outputs": [],
   "source": [
    "connect.commit()\n",
    "connect.close()"
   ]
  },
  {
   "cell_type": "code",
   "execution_count": 202,
   "metadata": {},
   "outputs": [],
   "source": [
    "from faker import Faker\n",
    "fake=Faker(locale='zh_CN')\n",
    "\n",
    "for _ in range(10):\n",
    "    cursor.execute('''\n",
    "                   INSERT INTO Staff_info(\n",
    "                       name,\n",
    "                       email,\n",
    "                       tel,\n",
    "                       supervisor) \n",
    "                   VALUES ('%s','%s','%s','%s')'''\n",
    "                   %(fake.name(),\n",
    "                     fake.ascii_company_email(),\n",
    "                     fake.phone_number(),\n",
    "                     fake.name()))\n",
    "\n",
    "for _ in range(30):\n",
    "    cursor.execute('''\n",
    "                   INSERT INTO Customer_info(\n",
    "                       customer_name)\n",
    "                   VALUES ('%s')'''\n",
    "                   %(fake.company()))\n"
   ]
  },
  {
   "cell_type": "code",
   "execution_count": 203,
   "metadata": {},
   "outputs": [],
   "source": [
    "import radar\n",
    "import numpy as np\n",
    "import random\n",
    "from random import randint\n",
    "from faker import Faker\n",
    "fake=Faker(locale='zh_CN')\n",
    "state=['热','温','冷','立项']\n",
    "level=['高','中','低']\n",
    "stage=['阶段一','阶段二','阶段三']\n",
    "challenge=['是','否']\n",
    "\n",
    "for _ in range(50):\n",
    "   cursor.execute('''\n",
    "                  INSERT INTO Leads_info(\n",
    "                     title, \n",
    "                     sop, \n",
    "                     state, \n",
    "                     level, \n",
    "                     defination, \n",
    "                     stage, \n",
    "                     application, \n",
    "                     anual_demand, \n",
    "                     anual_sale, \n",
    "                     challenge, \n",
    "                     progress,\n",
    "                     staff_id,\n",
    "                     customer_id) \n",
    "                  VALUES ('%s','%s','%s','%s','%s','%s','%s','%d','%d','%s','%s',%d,%d)'''\n",
    "                  %(fake.word(), \n",
    "                    radar.random_date(), \n",
    "                    random.choice(state), \n",
    "                    random.choice(level), \n",
    "                    fake.sentence(nb_words=6, variable_nb_words=True, ext_word_list=None),\n",
    "                    random.choice(stage),\n",
    "                    fake.sentence(nb_words=6, variable_nb_words=True, ext_word_list=None),\n",
    "                    randint(1000,5000),\n",
    "                    randint(1000,5000),\n",
    "                    random.choice(challenge),\n",
    "                    fake.sentence(nb_words=6, variable_nb_words=True, ext_word_list=None),\n",
    "                    randint(1,10),\n",
    "                    randint(1,30)\n",
    "                    )) "
   ]
  },
  {
   "cell_type": "code",
   "execution_count": 204,
   "metadata": {},
   "outputs": [],
   "source": [
    "for _ in range(100):\n",
    "    cursor.execute('''\n",
    "                   INSERT INTO Trading_records(\n",
    "                       trade_no,\n",
    "                       date,\n",
    "                       target_sale,\n",
    "                       sale_amount,\n",
    "                       target_benefits,\n",
    "                       benefits,\n",
    "                       staff_id,\n",
    "                       customer_id\n",
    "                   ) VALUES ('%s','%s',%d,%d,%d,%d,%d,%d)\n",
    "                   '''%(fake.ean8(),\n",
    "                        # 条形码\n",
    "                        radar.random_date(),\n",
    "                        randint(4000,5000),\n",
    "                        randint(1000,5000),\n",
    "                        randint(1000,2000),\n",
    "                        randint(100,1000),\n",
    "                        randint(1,10),\n",
    "                        randint(1,30)))"
   ]
  },
  {
   "cell_type": "code",
   "execution_count": 205,
   "metadata": {},
   "outputs": [],
   "source": [
    "cursor.execute('SELECT trade_no FROM Trading_records')\n",
    "trade_no=cursor.fetchall()\n",
    "\n",
    "for _ in range(200):\n",
    "    \n",
    "    cursor.execute('''\n",
    "                   INSERT INTO Receipt_records(\n",
    "                       receipt_no,\n",
    "                       date,\n",
    "                       target_receipt,\n",
    "                       receipt,\n",
    "                       trade_no\n",
    "                   ) VALUES ('%s','%s',%d,%d,'%s')\n",
    "                   '''%(\n",
    "                       fake.ean8(),\n",
    "                       radar.random_date(),\n",
    "                       randint(1000,5000),\n",
    "                       randint(200,2000),\n",
    "                       random.choice(trade_no)[0]\n",
    "                   ))"
   ]
  }
 ],
 "metadata": {
  "kernelspec": {
   "display_name": "Python 3",
   "language": "python",
   "name": "python3"
  },
  "language_info": {
   "codemirror_mode": {
    "name": "ipython",
    "version": 3
   },
   "file_extension": ".py",
   "mimetype": "text/x-python",
   "name": "python",
   "nbconvert_exporter": "python",
   "pygments_lexer": "ipython3",
   "version": "3.8.8"
  },
  "orig_nbformat": 4
 },
 "nbformat": 4,
 "nbformat_minor": 2
}
